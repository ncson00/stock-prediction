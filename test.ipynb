{
 "cells": [
  {
   "cell_type": "code",
   "execution_count": 5,
   "metadata": {},
   "outputs": [],
   "source": [
    "import numpy as np\n",
    "import pandas as pd\n",
    "import pandas.io.sql as psql\n",
    "from datetime import datetime, timedelta, date\n",
    "import argparse\n",
    "import psycopg2\n",
    "import psycopg2.extras as extras\n",
    "import pickle\n",
    "\n",
    "from math import *\n",
    "from sklearn.metrics import mean_squared_error\n",
    "from sklearn.preprocessing import MinMaxScaler\n",
    "\n",
    "from db.postgres import *"
   ]
  },
  {
   "cell_type": "code",
   "execution_count": 30,
   "metadata": {},
   "outputs": [],
   "source": [
    "PG_USER = \"postgres\"\n",
    "PG_PASSWORD = \"1\"\n",
    "PG_DATABASE = \"stock\"\n",
    "PG_HOST = \"172.18.0.3\"\n",
    "PG_PORT = 5432\n",
    "PG_DRIVER = 'org.postgresql.Driver'\n",
    "\n",
    "start_date = '2015-01-01'\n",
    "end_date = '2023-02-01'"
   ]
  },
  {
   "cell_type": "code",
   "execution_count": 32,
   "metadata": {},
   "outputs": [],
   "source": [
    "class DataHandler:\n",
    "\n",
    "    '''\n",
    "    '''\n",
    "\n",
    "    def __init__(self, ticket, lookback = 60):\n",
    "        self.ticket = ticket\n",
    "        self.lookback = lookback\n",
    "\n",
    "\n",
    "    def get_scaler(self):\n",
    "        df = psql.read_sql(f\"select date, close from stock_raw where stock = '{self.ticket}'\", connect())\n",
    "        dataset = df[['close']].values\n",
    "\n",
    "        scaler = MinMaxScaler(feature_range=(0,1))\n",
    "        dataset = scaler.fit_transform(dataset)\n",
    "\n",
    "        self.dataset = dataset\n",
    "\n",
    "        return scaler\n",
    "\n",
    "\n",
    "    def model_input(self):\n",
    "\n",
    "        self.get_scaler()\n",
    "\n",
    "        dataX, dataY = [], []\n",
    "        for i in range(len(self.dataset) - self.lookback):\n",
    "            row = [a for a in self.dataset[i:i+self.lookback]]\n",
    "            dataX.append(row)\n",
    "            dataY.append(self.dataset[i + self.lookback][0])\n",
    "\n",
    "        X, y = np.array(dataX), np.array(dataY)\n",
    "\n",
    "        # Train-test split\n",
    "        split_point = int(len(self.dataset)*0.9)\n",
    "        X_train, y_train = X[:split_point], y[:split_point]\n",
    "        X_val, y_val = X[split_point:len(X)], y[split_point:len(y)]\n",
    "\n",
    "        return X_train, y_train, X_val, y_val"
   ]
  },
  {
   "cell_type": "code",
   "execution_count": 31,
   "metadata": {},
   "outputs": [],
   "source": [
    "def load_model(ticket):\n",
    "    return pickle.load(open(f'model/LTSM_{ticket}.sav', 'rb'))\n",
    "\n",
    "def update_rmse(ticket, run_date):\n",
    "\n",
    "    '''\n",
    "    '''\n",
    "    model = DataHandler(ticket=ticket, lookback=60)\n",
    "\n",
    "    X_train, y_train, X_val, y_val = model.preprocess()\n",
    "\n",
    "    ltsm = load_model(ticket)\n",
    "    y_predict = ltsm.predict(X_val)\n",
    "\n",
    "    scaler = model.get_scaler()\n",
    "    predict_price = scaler.inverse_transform(y_predict.reshape(-1, 1))\n",
    "    true_price = scaler.inverse_transform(y_val.reshape(-1, 1))\n",
    "\n",
    "    rmse = sqrt(mean_squared_error(true_price, predict_price))\n",
    "\n",
    "    postgres_operator(\n",
    "        query=f\"\"\"\n",
    "            delete from rmse where date = '{run_date}';\n",
    "            insert into rmse values ({run_date}, {ticket}, {rmse});\n",
    "        \"\"\",\n",
    "        conn=connect()\n",
    "    )"
   ]
  },
  {
   "cell_type": "code",
   "execution_count": 6,
   "metadata": {},
   "outputs": [
    {
     "name": "stdout",
     "output_type": "stream",
     "text": [
      "Connect Postgres Successfully!!\n"
     ]
    }
   ],
   "source": [
    "run_date = date.today()\n",
    "\n",
    "data = psql.read_sql(f\"\"\"\n",
    "            select close \n",
    "            from stock_raw \n",
    "            where stock = 'AAPL'\n",
    "                and date between '{run_date - timedelta(days=90)}' and '{run_date}'\n",
    "        \"\"\", connect())\n"
   ]
  },
  {
   "cell_type": "code",
   "execution_count": 17,
   "metadata": {},
   "outputs": [
    {
     "data": {
      "text/plain": [
       "array([151.28999329, 148.00999451, 150.17999268, 151.07000732,\n",
       "       148.11000061, 144.22000122, 141.16999817, 148.02999878,\n",
       "       148.30999756, 147.80999756, 146.63000488, 142.91000366,\n",
       "       140.94000244, 142.6499939 , 142.16000366, 144.49000549,\n",
       "       145.47000122, 143.21000671, 136.5       , 134.50999451,\n",
       "       132.36999512, 132.30000305, 135.44999695, 132.22999573,\n",
       "       131.86000061, 130.02999878, 126.04000092, 129.61000061,\n",
       "       129.92999268, 125.06999969, 126.36000061, 125.01999664,\n",
       "       129.61999512, 130.1499939 , 130.72999573, 133.49000549,\n",
       "       133.41000366, 134.75999451, 135.94000244, 135.21000671,\n",
       "       135.27000427, 137.86999512, 141.11000061, 142.52999878,\n",
       "       141.86000061, 143.96000671, 145.92999268, 143.        ,\n",
       "       144.28999329, 145.42999268, 150.82000732, 154.5       ,\n",
       "       151.72999573, 154.6499939 , 151.91999817, 150.86999512,\n",
       "       151.00999451, 153.8500061 , 153.19999695, 155.33000183])"
      ]
     },
     "execution_count": 17,
     "metadata": {},
     "output_type": "execute_result"
    }
   ],
   "source": [
    "t = data['close'].values\n",
    "t"
   ]
  },
  {
   "cell_type": "code",
   "execution_count": 18,
   "metadata": {},
   "outputs": [
    {
     "data": {
      "text/plain": [
       "array([[[151.28999329],\n",
       "        [148.00999451],\n",
       "        [150.17999268],\n",
       "        [151.07000732],\n",
       "        [148.11000061],\n",
       "        [144.22000122],\n",
       "        [141.16999817],\n",
       "        [148.02999878],\n",
       "        [148.30999756],\n",
       "        [147.80999756],\n",
       "        [146.63000488],\n",
       "        [142.91000366],\n",
       "        [140.94000244],\n",
       "        [142.6499939 ],\n",
       "        [142.16000366],\n",
       "        [144.49000549],\n",
       "        [145.47000122],\n",
       "        [143.21000671],\n",
       "        [136.5       ],\n",
       "        [134.50999451],\n",
       "        [132.36999512],\n",
       "        [132.30000305],\n",
       "        [135.44999695],\n",
       "        [132.22999573],\n",
       "        [131.86000061],\n",
       "        [130.02999878],\n",
       "        [126.04000092],\n",
       "        [129.61000061],\n",
       "        [129.92999268],\n",
       "        [125.06999969],\n",
       "        [126.36000061],\n",
       "        [125.01999664],\n",
       "        [129.61999512],\n",
       "        [130.1499939 ],\n",
       "        [130.72999573],\n",
       "        [133.49000549],\n",
       "        [133.41000366],\n",
       "        [134.75999451],\n",
       "        [135.94000244],\n",
       "        [135.21000671],\n",
       "        [135.27000427],\n",
       "        [137.86999512],\n",
       "        [141.11000061],\n",
       "        [142.52999878],\n",
       "        [141.86000061],\n",
       "        [143.96000671],\n",
       "        [145.92999268],\n",
       "        [143.        ],\n",
       "        [144.28999329],\n",
       "        [145.42999268],\n",
       "        [150.82000732],\n",
       "        [154.5       ],\n",
       "        [151.72999573],\n",
       "        [154.6499939 ],\n",
       "        [151.91999817],\n",
       "        [150.86999512],\n",
       "        [151.00999451],\n",
       "        [153.8500061 ],\n",
       "        [153.19999695],\n",
       "        [155.33000183]]])"
      ]
     },
     "execution_count": 18,
     "metadata": {},
     "output_type": "execute_result"
    }
   ],
   "source": [
    "def transform_array(data, lookback=60):\n",
    "        \n",
    "    '''Transforming array into Model input'''\n",
    "    temp = []\n",
    "    for i in range(len(data) - lookback + 1):\n",
    "        row = [[a] for a in data[i:i+lookback]]\n",
    "        temp.append(row)\n",
    "        \n",
    "    return np.array(temp)\n",
    "\n",
    "transform_array(t, 60)"
   ]
  },
  {
   "cell_type": "code",
   "execution_count": null,
   "metadata": {},
   "outputs": [],
   "source": []
  }
 ],
 "metadata": {
  "kernelspec": {
   "display_name": "Python 3",
   "language": "python",
   "name": "python3"
  },
  "language_info": {
   "codemirror_mode": {
    "name": "ipython",
    "version": 3
   },
   "file_extension": ".py",
   "mimetype": "text/x-python",
   "name": "python",
   "nbconvert_exporter": "python",
   "pygments_lexer": "ipython3",
   "version": "3.10.6"
  },
  "orig_nbformat": 4,
  "vscode": {
   "interpreter": {
    "hash": "916dbcbb3f70747c44a77c7bcd40155683ae19c65e1c03b4aa3499c5328201f1"
   }
  }
 },
 "nbformat": 4,
 "nbformat_minor": 2
}
